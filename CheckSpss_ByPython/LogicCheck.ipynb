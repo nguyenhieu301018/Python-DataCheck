{
 "cells": [
  {
   "cell_type": "code",
   "execution_count": 42,
   "metadata": {},
   "outputs": [],
   "source": [
    "import pandas as pd\n",
    "import numpy as np\n",
    "import pyreadstat\n",
    "import warnings"
   ]
  },
  {
   "cell_type": "code",
   "execution_count": 43,
   "metadata": {},
   "outputs": [],
   "source": [
    "warnings.filterwarnings(\"ignore\", category=FutureWarning, message=\".*concatenation with empty or all-NA entries.*\")\n",
    "file_path = './DATA/data-check.sav'\n",
    "df, meta = pyreadstat.read_sav(file_path)\n",
    "current_year = 2024\n",
    "pd.options.mode.copy_on_write = True"
   ]
  },
  {
   "cell_type": "markdown",
   "metadata": {},
   "source": [
    "Logic 1 YearsOld"
   ]
  },
  {
   "cell_type": "code",
   "execution_count": 44,
   "metadata": {},
   "outputs": [
    {
     "name": "stdout",
     "output_type": "stream",
     "text": [
      "               Error_1       SbjNum  S2_YEAR  S2_TUOI\n",
      "0  {Kiểm tra lại tuổi}  157630659.0   1999.0     32.0\n"
     ]
    }
   ],
   "source": [
    "#yearold,age\n",
    "col_1 = ['SbjNum', 'S2_YEAR', 'S2_TUOI']\n",
    "df_1 = df[col_1]  \n",
    "\n",
    "df_1['Error_1'] = \"Kiểm tra Year + Age = 2024 của đáp viên\"\n",
    "\n",
    "def Logic_1(row):\n",
    "    error_message = set() \n",
    "    YearOld=row['S2_YEAR']\n",
    "    Age=row['S2_TUOI']\n",
    "    Calculated_Age = current_year - YearOld\n",
    "    if(Calculated_Age!=Age):\n",
    "        error_message.add(\"Kiểm tra lại tuổi\")\n",
    "    return pd.Series([error_message])\n",
    "\n",
    "df_1[['Error_1']]=df_1.apply(Logic_1,axis=1)\n",
    "\n",
    "Result_1=df_1[(df_1['Error_1'].apply(lambda x: len(x)>0))]\n",
    "columns=['Error_1','SbjNum'] + [col for col in Result_1.columns if col not in ['Error_1','SbjNum']]\n",
    "Result_1 = Result_1[columns]\n",
    "print(Result_1)  "
   ]
  },
  {
   "cell_type": "markdown",
   "metadata": {},
   "source": [
    "Logic 2 Nhóm tuổi \n",
    "\n",
    "    Dưới 21 tuổi\t1\n",
    "    21 - 28 tuổi\t2\n",
    "    29 - 38 tuổi\t3\n",
    "    39 - 48 tuổi\t4\n",
    "    Trên 48 tuổi\t5"
   ]
  },
  {
   "cell_type": "code",
   "execution_count": 45,
   "metadata": {},
   "outputs": [
    {
     "name": "stdout",
     "output_type": "stream",
     "text": [
      "                    Error_2       SbjNum  S2_TUOI  S2_NHOMTUOI\n",
      "0  {Kiểm tra lại nhóm tuổi}  157630659.0     32.0          4.0\n"
     ]
    }
   ],
   "source": [
    "# SbjNum, S2_TUOI,S2_NHOMTUOI\n",
    "\n",
    "\n",
    "col_2=['SbjNum','S2_TUOI','S2_NHOMTUOI']\n",
    "df_2=df[col_2]\n",
    "\n",
    "def Logic_2(row):\n",
    "    error_message = set() \n",
    "    Age=row['S2_TUOI']\n",
    "    AgeGroup=row['S2_NHOMTUOI']\n",
    "\n",
    "    if((AgeGroup==1 and Age>=21)\n",
    "       or (AgeGroup==2 and Age not in {21,22,23,24,25,26,27,28})\n",
    "       or (AgeGroup==3 and Age not in {29,30,31,32,33,34,35,36,37,38})\n",
    "       or (AgeGroup==4 and Age not in {39,40,41,42,43,44,45,46,47,48})\n",
    "       or (AgeGroup==5 and Age<48)\n",
    "       ):\n",
    "        error_message.add(\"Kiểm tra lại nhóm tuổi\")\n",
    "    return pd.Series([error_message])\n",
    "\n",
    "\n",
    "df_2[[ 'Error_2']]=df_2.apply(Logic_2,axis=1)\n",
    "\n",
    "Result_2=df_2[(df_2['Error_2'].apply(lambda x: len(x)>0))]\n",
    "columns=['Error_2','SbjNum'] + [col for col in Result_2.columns if col not in ['Error_2','SbjNum']]\n",
    "Result_2 = Result_2[columns]\n",
    "print(Result_2)  "
   ]
  },
  {
   "cell_type": "markdown",
   "metadata": {},
   "source": [
    "Logic 3 Thu nhập\n",
    "\n",
    "    Trên 20,000,000 VND \t            1\tTIẾP TỤC\t\t\n",
    "    13,500,001 - 20,000,000 VND\t    2\t||\t\n",
    "    8,500,001 - 13,500,000 VND \t    3\t||\t\n",
    "    5,500,001 - 8,500,000 VND \t    4\tNGƯNG\t\t\n",
    "    Dưới 5,500,001 VND\t            5\t||\t\n",
    "    Từ chối trả lời/ Không biết\t    6\t||\t\n"
   ]
  },
  {
   "cell_type": "code",
   "execution_count": 46,
   "metadata": {},
   "outputs": [
    {
     "name": "stdout",
     "output_type": "stream",
     "text": [
      "                        Error_3       SbjNum  S5_INCOME   S5\n",
      "0  {Kiểm tra lại nhóm thu nhập}  157630659.0       15.0  4.0\n"
     ]
    }
   ],
   "source": [
    "# SbjNum, S5_INCOME,S5\n",
    "\n",
    "\n",
    "col_3=['SbjNum','S5_INCOME','S5']\n",
    "df_3=df[col_3]\n",
    "\n",
    "def Logic_3(row):\n",
    "    error_message = set() \n",
    "    InCome=row['S5_INCOME']\n",
    "    InComeGroup=row['S5']\n",
    "\n",
    "    if((InComeGroup==1 and InCome<=20)\n",
    "       or (InComeGroup==2 and (InCome<13.5 or InCome>20) )\n",
    "       or (InComeGroup==3 and (InCome<8.5 or InCome>13.5))\n",
    "       ):\n",
    "        error_message.add(\"Kiểm tra lại thu nhập\")\n",
    "    \n",
    "\n",
    "    if (InComeGroup in {4,5,6}):\n",
    "        error_message.add(\"Kiểm tra lại nhóm thu nhập\")\n",
    "\n",
    "    return pd.Series([error_message])\n",
    "\n",
    "\n",
    "df_3[[ 'Error_3']]=df_3.apply(Logic_3,axis=1)\n",
    "\n",
    "Result_3=df_3[(df_3['Error_3'].apply(lambda x: len(x)>0))]\n",
    "columns=['Error_3','SbjNum'] + [col for col in Result_3.columns if col not in ['Error_3','SbjNum']]\n",
    "Result_3 = Result_3[columns]\n",
    "print(Result_3)  "
   ]
  },
  {
   "cell_type": "markdown",
   "metadata": {},
   "source": [
    "Logic 4 :\n",
    "\n",
    "    NGƯNG NẾU S9 KHÔNG CHỌN CODE 1\n",
    "    S9_08 chọn nhưng S_S9_8 không có dữ liệu"
   ]
  },
  {
   "cell_type": "code",
   "execution_count": 47,
   "metadata": {},
   "outputs": [
    {
     "name": "stdout",
     "output_type": "stream",
     "text": [
      "Empty DataFrame\n",
      "Columns: [Error_4, SbjNum, S9_O1, S9_O8, S_S9_8]\n",
      "Index: []\n"
     ]
    }
   ],
   "source": [
    "#SbjNum,S9_O1,S9_O8,S_S9_8\n",
    "col_4=['SbjNum','S9_O1','S9_O8','S_S9_8']\n",
    "df_4=df[col_4]\n",
    "\n",
    "def Logic_4(row):\n",
    "    error_message = set() \n",
    "    S9_1=row['S9_O1']\n",
    "    S9_8=row['S9_O8']\n",
    "    S9_8_OE=row['S_S9_8']\n",
    "\n",
    "    if(S9_1!=1):\n",
    "        error_message.add(\"Kiểm tra lại S9 không có code 1 được chọn\")\n",
    "\n",
    "    if(S9_8==1 and pd.isna(S9_8_OE)):\n",
    "        error_message.add(\"Kiểm tra lại S9_08 Code 1 data S9_08_OE trống\")\n",
    "    return pd.Series([error_message])\n",
    "\n",
    "df_4[[ 'Error_4']]=df_4.apply(Logic_4,axis=1)\n",
    "\n",
    "Result_4=df_4[(df_4['Error_4'].apply(lambda x: len(x)>0))]\n",
    "columns=['Error_4','SbjNum'] + [col for col in Result_4.columns if col not in ['Error_4','SbjNum']]\n",
    "Result_4 = Result_4[columns]\n",
    "print(Result_4)  "
   ]
  },
  {
   "cell_type": "markdown",
   "metadata": {},
   "source": [
    "Export Error file Excel"
   ]
  },
  {
   "cell_type": "code",
   "execution_count": 48,
   "metadata": {},
   "outputs": [
    {
     "name": "stdout",
     "output_type": "stream",
     "text": [
      "DataFrames to be exported: ['Result_1', 'Result_2', 'Result_3']\n"
     ]
    }
   ],
   "source": [
    "def convert_to_value_labels(df, meta):\n",
    "    df_copy = df.copy()\n",
    "    for col in df_copy.columns:\n",
    "        if col in meta.variable_value_labels:\n",
    "            value_labels = meta.variable_value_labels[col]\n",
    "            try:\n",
    "                df_copy[col] = df_copy[col].map(value_labels).fillna(df_copy[col])\n",
    "            except Exception as e:\n",
    "                print(f\"Error processing column {col}: {e}\")\n",
    "    return df_copy\n",
    "\n",
    "\n",
    "output_file_path = './Excel-output-LogicCheck/Error.xlsx'\n",
    "\n",
    "# Create DataFrames list with corresponding sheet names\n",
    "data_frames = {\n",
    "    f'Result_{i}': globals()[f'Result_{i}'] for i in range(1, 200)\n",
    "    if f'Result_{i}' in globals() and not globals()[f'Result_{i}'].empty and len(globals()[f'Result_{i}']) > 0\n",
    "}\n",
    "\n",
    "# Print out the keys of data_frames for debugging\n",
    "print(f\"DataFrames to be exported: {list(data_frames.keys())}\")\n",
    "\n",
    "# Export to Excel\n",
    "with pd.ExcelWriter(output_file_path) as writer:\n",
    "    # Create a dictionary to hold labeled DataFrames\n",
    "    labeled_data_frames = {}\n",
    "    \n",
    "    # Convert and store labeled DataFrames\n",
    "    for sheet_name, df in data_frames.items():\n",
    "        if not df.empty:\n",
    "            labeled_df = convert_to_value_labels(df, meta)\n",
    "            labeled_data_frames[sheet_name] = labeled_df\n",
    "\n",
    "    # Create the results list from labeled DataFrames\n",
    "    results = [(labeled_data_frames[sheet_name], f'Logic {sheet_name.split(\"_\")[1]}') for sheet_name in labeled_data_frames]\n",
    "\n",
    "    # Create overview sheet data\n",
    "    overview_data = {\n",
    "        'Logic Name': [],\n",
    "        'Row Count': [],\n",
    "        'Logic set/question (What)': []\n",
    "    }\n",
    "\n",
    "    # Populate overview data\n",
    "    for result, sheet_name in results:\n",
    "        if not result.empty:\n",
    "            unique_errors = set()\n",
    "            for col in result.columns:\n",
    "                if col.startswith('Error_'):\n",
    "                    for error_list in result[col].dropna():\n",
    "                        if isinstance(error_list, list):\n",
    "                            unique_errors.update(str(e) for e in error_list)\n",
    "                        elif isinstance(error_list, str):\n",
    "                            unique_errors.add(error_list)\n",
    "            overview_data['Logic Name'].append(sheet_name)\n",
    "            overview_data['Row Count'].append(len(result))\n",
    "            overview_data['Logic set/question (What)'].append(\", \".join(unique_errors))\n",
    "\n",
    "    if not overview_data['Logic Name']:\n",
    "        overview_data['Logic Name'].append('No data available')\n",
    "        overview_data['Row Count'].append(0)\n",
    "        overview_data['Logic set/question (What)'].append('No data available')\n",
    "\n",
    "    overview_df = pd.DataFrame(overview_data)\n",
    "    overview_df.to_excel(writer, sheet_name='Overview', index=False)\n",
    "\n",
    "    # Write the non-empty labeled results to the Excel file\n",
    "    for result, sheet_name in results:\n",
    "        if not result.empty:\n",
    "            result.to_excel(writer, sheet_name=f'{sheet_name}', index=False)"
   ]
  },
  {
   "cell_type": "code",
   "execution_count": null,
   "metadata": {},
   "outputs": [],
   "source": []
  },
  {
   "cell_type": "code",
   "execution_count": null,
   "metadata": {},
   "outputs": [],
   "source": []
  },
  {
   "cell_type": "code",
   "execution_count": null,
   "metadata": {},
   "outputs": [],
   "source": []
  },
  {
   "cell_type": "code",
   "execution_count": null,
   "metadata": {},
   "outputs": [],
   "source": []
  }
 ],
 "metadata": {
  "kernelspec": {
   "display_name": "mymy",
   "language": "python",
   "name": "python3"
  },
  "language_info": {
   "codemirror_mode": {
    "name": "ipython",
    "version": 3
   },
   "file_extension": ".py",
   "mimetype": "text/x-python",
   "name": "python",
   "nbconvert_exporter": "python",
   "pygments_lexer": "ipython3",
   "version": "3.11.9"
  }
 },
 "nbformat": 4,
 "nbformat_minor": 2
}
